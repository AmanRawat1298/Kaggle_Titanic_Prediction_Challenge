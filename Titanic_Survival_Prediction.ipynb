{
 "cells": [
  {
   "cell_type": "code",
   "execution_count": null,
   "metadata": {
    "_cell_guid": "b1076dfc-b9ad-4769-8c92-a6c4dae69d19",
    "_uuid": "8f2839f25d086af736a60e9eeb907d3b93b6e0e5"
   },
   "outputs": [],
   "source": []
  },
  {
   "cell_type": "markdown",
   "metadata": {},
   "source": [
    "# Importing Libraries"
   ]
  },
  {
   "cell_type": "code",
   "execution_count": 1,
   "metadata": {},
   "outputs": [],
   "source": [
    "import os\n",
    "import numpy as np # linear algebra\n",
    "import pandas as pd # data processing, CSV file I/O (e.g. pd.read_csv)\n",
    "\n",
    "\n",
    "#Visualization\n",
    "import matplotlib.pyplot as plt\n",
    "import seaborn as sns\n",
    "\n",
    "#Preprocessing and helper libraries\n",
    "from sklearn.preprocessing import LabelEncoder\n",
    "from sklearn.model_selection import train_test_split, cross_val_score, GridSearchCV\n",
    "\n",
    "#LOADING DIFFERENT ML MODELS\n",
    "from sklearn.ensemble import RandomForestClassifier, ExtraTreesClassifier, AdaBoostClassifier, BaggingClassifier, GradientBoostingClassifier, VotingClassifier\n",
    "from xgboost import XGBClassifier\n",
    "from sklearn.linear_model import LogisticRegression\n",
    "\n",
    "\n"
   ]
  },
  {
   "cell_type": "markdown",
   "metadata": {},
   "source": [
    "## Loading Data to DataFrame"
   ]
  },
  {
   "cell_type": "code",
   "execution_count": 2,
   "metadata": {
    "_cell_guid": "79c7e3d0-c299-4dcb-8224-4455121ee9b0",
    "_uuid": "d629ff2d2480ee46fbb7e2d37f6b5fab8052498a"
   },
   "outputs": [],
   "source": [
    "train_data  = pd.read_csv(\"./TitanicDataset/train.csv\")\n",
    "test_data = pd.read_csv(\"./TitanicDataset/test.csv\")\n",
    "Id = test_data[\"PassengerId\"]"
   ]
  },
  {
   "cell_type": "code",
   "execution_count": 3,
   "metadata": {},
   "outputs": [
    {
     "data": {
      "text/html": [
       "<div>\n",
       "<style scoped>\n",
       "    .dataframe tbody tr th:only-of-type {\n",
       "        vertical-align: middle;\n",
       "    }\n",
       "\n",
       "    .dataframe tbody tr th {\n",
       "        vertical-align: top;\n",
       "    }\n",
       "\n",
       "    .dataframe thead th {\n",
       "        text-align: right;\n",
       "    }\n",
       "</style>\n",
       "<table border=\"1\" class=\"dataframe\">\n",
       "  <thead>\n",
       "    <tr style=\"text-align: right;\">\n",
       "      <th></th>\n",
       "      <th>PassengerId</th>\n",
       "      <th>Survived</th>\n",
       "      <th>Pclass</th>\n",
       "      <th>Name</th>\n",
       "      <th>Sex</th>\n",
       "      <th>Age</th>\n",
       "      <th>SibSp</th>\n",
       "      <th>Parch</th>\n",
       "      <th>Ticket</th>\n",
       "      <th>Fare</th>\n",
       "      <th>Cabin</th>\n",
       "      <th>Embarked</th>\n",
       "    </tr>\n",
       "  </thead>\n",
       "  <tbody>\n",
       "    <tr>\n",
       "      <th>0</th>\n",
       "      <td>1</td>\n",
       "      <td>0</td>\n",
       "      <td>3</td>\n",
       "      <td>Braund, Mr. Owen Harris</td>\n",
       "      <td>male</td>\n",
       "      <td>22.0</td>\n",
       "      <td>1</td>\n",
       "      <td>0</td>\n",
       "      <td>A/5 21171</td>\n",
       "      <td>7.2500</td>\n",
       "      <td>NaN</td>\n",
       "      <td>S</td>\n",
       "    </tr>\n",
       "    <tr>\n",
       "      <th>1</th>\n",
       "      <td>2</td>\n",
       "      <td>1</td>\n",
       "      <td>1</td>\n",
       "      <td>Cumings, Mrs. John Bradley (Florence Briggs Th...</td>\n",
       "      <td>female</td>\n",
       "      <td>38.0</td>\n",
       "      <td>1</td>\n",
       "      <td>0</td>\n",
       "      <td>PC 17599</td>\n",
       "      <td>71.2833</td>\n",
       "      <td>C85</td>\n",
       "      <td>C</td>\n",
       "    </tr>\n",
       "    <tr>\n",
       "      <th>2</th>\n",
       "      <td>3</td>\n",
       "      <td>1</td>\n",
       "      <td>3</td>\n",
       "      <td>Heikkinen, Miss. Laina</td>\n",
       "      <td>female</td>\n",
       "      <td>26.0</td>\n",
       "      <td>0</td>\n",
       "      <td>0</td>\n",
       "      <td>STON/O2. 3101282</td>\n",
       "      <td>7.9250</td>\n",
       "      <td>NaN</td>\n",
       "      <td>S</td>\n",
       "    </tr>\n",
       "    <tr>\n",
       "      <th>3</th>\n",
       "      <td>4</td>\n",
       "      <td>1</td>\n",
       "      <td>1</td>\n",
       "      <td>Futrelle, Mrs. Jacques Heath (Lily May Peel)</td>\n",
       "      <td>female</td>\n",
       "      <td>35.0</td>\n",
       "      <td>1</td>\n",
       "      <td>0</td>\n",
       "      <td>113803</td>\n",
       "      <td>53.1000</td>\n",
       "      <td>C123</td>\n",
       "      <td>S</td>\n",
       "    </tr>\n",
       "    <tr>\n",
       "      <th>4</th>\n",
       "      <td>5</td>\n",
       "      <td>0</td>\n",
       "      <td>3</td>\n",
       "      <td>Allen, Mr. William Henry</td>\n",
       "      <td>male</td>\n",
       "      <td>35.0</td>\n",
       "      <td>0</td>\n",
       "      <td>0</td>\n",
       "      <td>373450</td>\n",
       "      <td>8.0500</td>\n",
       "      <td>NaN</td>\n",
       "      <td>S</td>\n",
       "    </tr>\n",
       "  </tbody>\n",
       "</table>\n",
       "</div>"
      ],
      "text/plain": [
       "   PassengerId  Survived  Pclass  \\\n",
       "0            1         0       3   \n",
       "1            2         1       1   \n",
       "2            3         1       3   \n",
       "3            4         1       1   \n",
       "4            5         0       3   \n",
       "\n",
       "                                                Name     Sex   Age  SibSp  \\\n",
       "0                            Braund, Mr. Owen Harris    male  22.0      1   \n",
       "1  Cumings, Mrs. John Bradley (Florence Briggs Th...  female  38.0      1   \n",
       "2                             Heikkinen, Miss. Laina  female  26.0      0   \n",
       "3       Futrelle, Mrs. Jacques Heath (Lily May Peel)  female  35.0      1   \n",
       "4                           Allen, Mr. William Henry    male  35.0      0   \n",
       "\n",
       "   Parch            Ticket     Fare Cabin Embarked  \n",
       "0      0         A/5 21171   7.2500   NaN        S  \n",
       "1      0          PC 17599  71.2833   C85        C  \n",
       "2      0  STON/O2. 3101282   7.9250   NaN        S  \n",
       "3      0            113803  53.1000  C123        S  \n",
       "4      0            373450   8.0500   NaN        S  "
      ]
     },
     "execution_count": 3,
     "metadata": {},
     "output_type": "execute_result"
    }
   ],
   "source": [
    "train_data.head()"
   ]
  },
  {
   "cell_type": "markdown",
   "metadata": {},
   "source": [
    "## Checking for null, missing, categorical values on train & test data"
   ]
  },
  {
   "cell_type": "code",
   "execution_count": 4,
   "metadata": {},
   "outputs": [
    {
     "name": "stdout",
     "output_type": "stream",
     "text": [
      "<class 'pandas.core.frame.DataFrame'>\n",
      "RangeIndex: 891 entries, 0 to 890\n",
      "Data columns (total 12 columns):\n",
      "PassengerId    891 non-null int64\n",
      "Survived       891 non-null int64\n",
      "Pclass         891 non-null int64\n",
      "Name           891 non-null object\n",
      "Sex            891 non-null object\n",
      "Age            714 non-null float64\n",
      "SibSp          891 non-null int64\n",
      "Parch          891 non-null int64\n",
      "Ticket         891 non-null object\n",
      "Fare           891 non-null float64\n",
      "Cabin          204 non-null object\n",
      "Embarked       889 non-null object\n",
      "dtypes: float64(2), int64(5), object(5)\n",
      "memory usage: 83.7+ KB\n"
     ]
    }
   ],
   "source": [
    "train_data.info()"
   ]
  },
  {
   "cell_type": "code",
   "execution_count": 5,
   "metadata": {},
   "outputs": [
    {
     "name": "stdout",
     "output_type": "stream",
     "text": [
      "<class 'pandas.core.frame.DataFrame'>\n",
      "RangeIndex: 418 entries, 0 to 417\n",
      "Data columns (total 11 columns):\n",
      "PassengerId    418 non-null int64\n",
      "Pclass         418 non-null int64\n",
      "Name           418 non-null object\n",
      "Sex            418 non-null object\n",
      "Age            332 non-null float64\n",
      "SibSp          418 non-null int64\n",
      "Parch          418 non-null int64\n",
      "Ticket         418 non-null object\n",
      "Fare           417 non-null float64\n",
      "Cabin          91 non-null object\n",
      "Embarked       418 non-null object\n",
      "dtypes: float64(2), int64(4), object(5)\n",
      "memory usage: 36.0+ KB\n"
     ]
    }
   ],
   "source": [
    "test_data.info()"
   ]
  },
  {
   "cell_type": "code",
   "execution_count": 6,
   "metadata": {},
   "outputs": [
    {
     "data": {
      "text/html": [
       "<div>\n",
       "<style scoped>\n",
       "    .dataframe tbody tr th:only-of-type {\n",
       "        vertical-align: middle;\n",
       "    }\n",
       "\n",
       "    .dataframe tbody tr th {\n",
       "        vertical-align: top;\n",
       "    }\n",
       "\n",
       "    .dataframe thead th {\n",
       "        text-align: right;\n",
       "    }\n",
       "</style>\n",
       "<table border=\"1\" class=\"dataframe\">\n",
       "  <thead>\n",
       "    <tr style=\"text-align: right;\">\n",
       "      <th></th>\n",
       "      <th>PassengerId</th>\n",
       "      <th>Survived</th>\n",
       "      <th>Pclass</th>\n",
       "      <th>Name</th>\n",
       "      <th>Sex</th>\n",
       "      <th>Age</th>\n",
       "      <th>SibSp</th>\n",
       "      <th>Parch</th>\n",
       "      <th>Ticket</th>\n",
       "      <th>Fare</th>\n",
       "      <th>Cabin</th>\n",
       "      <th>Embarked</th>\n",
       "    </tr>\n",
       "  </thead>\n",
       "  <tbody>\n",
       "    <tr>\n",
       "      <th>0</th>\n",
       "      <td>1</td>\n",
       "      <td>0</td>\n",
       "      <td>3</td>\n",
       "      <td>Braund, Mr. Owen Harris</td>\n",
       "      <td>male</td>\n",
       "      <td>22.0</td>\n",
       "      <td>1</td>\n",
       "      <td>0</td>\n",
       "      <td>A/5 21171</td>\n",
       "      <td>7.2500</td>\n",
       "      <td>NaN</td>\n",
       "      <td>S</td>\n",
       "    </tr>\n",
       "    <tr>\n",
       "      <th>1</th>\n",
       "      <td>2</td>\n",
       "      <td>1</td>\n",
       "      <td>1</td>\n",
       "      <td>Cumings, Mrs. John Bradley (Florence Briggs Th...</td>\n",
       "      <td>female</td>\n",
       "      <td>38.0</td>\n",
       "      <td>1</td>\n",
       "      <td>0</td>\n",
       "      <td>PC 17599</td>\n",
       "      <td>71.2833</td>\n",
       "      <td>C85</td>\n",
       "      <td>C</td>\n",
       "    </tr>\n",
       "    <tr>\n",
       "      <th>2</th>\n",
       "      <td>3</td>\n",
       "      <td>1</td>\n",
       "      <td>3</td>\n",
       "      <td>Heikkinen, Miss. Laina</td>\n",
       "      <td>female</td>\n",
       "      <td>26.0</td>\n",
       "      <td>0</td>\n",
       "      <td>0</td>\n",
       "      <td>STON/O2. 3101282</td>\n",
       "      <td>7.9250</td>\n",
       "      <td>NaN</td>\n",
       "      <td>S</td>\n",
       "    </tr>\n",
       "    <tr>\n",
       "      <th>3</th>\n",
       "      <td>4</td>\n",
       "      <td>1</td>\n",
       "      <td>1</td>\n",
       "      <td>Futrelle, Mrs. Jacques Heath (Lily May Peel)</td>\n",
       "      <td>female</td>\n",
       "      <td>35.0</td>\n",
       "      <td>1</td>\n",
       "      <td>0</td>\n",
       "      <td>113803</td>\n",
       "      <td>53.1000</td>\n",
       "      <td>C123</td>\n",
       "      <td>S</td>\n",
       "    </tr>\n",
       "    <tr>\n",
       "      <th>4</th>\n",
       "      <td>5</td>\n",
       "      <td>0</td>\n",
       "      <td>3</td>\n",
       "      <td>Allen, Mr. William Henry</td>\n",
       "      <td>male</td>\n",
       "      <td>35.0</td>\n",
       "      <td>0</td>\n",
       "      <td>0</td>\n",
       "      <td>373450</td>\n",
       "      <td>8.0500</td>\n",
       "      <td>NaN</td>\n",
       "      <td>S</td>\n",
       "    </tr>\n",
       "  </tbody>\n",
       "</table>\n",
       "</div>"
      ],
      "text/plain": [
       "   PassengerId  Survived  Pclass  \\\n",
       "0            1         0       3   \n",
       "1            2         1       1   \n",
       "2            3         1       3   \n",
       "3            4         1       1   \n",
       "4            5         0       3   \n",
       "\n",
       "                                                Name     Sex   Age  SibSp  \\\n",
       "0                            Braund, Mr. Owen Harris    male  22.0      1   \n",
       "1  Cumings, Mrs. John Bradley (Florence Briggs Th...  female  38.0      1   \n",
       "2                             Heikkinen, Miss. Laina  female  26.0      0   \n",
       "3       Futrelle, Mrs. Jacques Heath (Lily May Peel)  female  35.0      1   \n",
       "4                           Allen, Mr. William Henry    male  35.0      0   \n",
       "\n",
       "   Parch            Ticket     Fare Cabin Embarked  \n",
       "0      0         A/5 21171   7.2500   NaN        S  \n",
       "1      0          PC 17599  71.2833   C85        C  \n",
       "2      0  STON/O2. 3101282   7.9250   NaN        S  \n",
       "3      0            113803  53.1000  C123        S  \n",
       "4      0            373450   8.0500   NaN        S  "
      ]
     },
     "execution_count": 6,
     "metadata": {},
     "output_type": "execute_result"
    }
   ],
   "source": [
    "#printing only top 5 values\n",
    "train_data.head()"
   ]
  },
  {
   "cell_type": "code",
   "execution_count": 7,
   "metadata": {},
   "outputs": [],
   "source": [
    "#Storing both dataFrames as list dsp that they can be iterated over\n",
    "data = [train_data, test_data]"
   ]
  },
  {
   "cell_type": "markdown",
   "metadata": {},
   "source": [
    "## **The attributes have the following meaning:**\n",
    "1. **Survived:** that's the target, 0 means the passenger did not survive, while 1 means he/she survived.\n",
    "2. **Pclass:** passenger class.\n",
    "3. **Name, Sex, Age:** self-explanatory\n",
    "4. **SibSp:** how many siblings & spouses of the passenger aboard the Titanic.\n",
    "5. **Parch:** how many children & parents of the passenger aboard the Titanic.\n",
    "6. **Ticket:** ticket id\n",
    "7. **Fare:** price paid (in pounds)\n",
    "8. **Cabin:** passenger's cabin number\n",
    "9. **Embarked:** where the passenger embarked the Titanic"
   ]
  },
  {
   "cell_type": "code",
   "execution_count": 8,
   "metadata": {},
   "outputs": [
    {
     "name": "stdout",
     "output_type": "stream",
     "text": [
      "Training data with null values:\n",
      " PassengerId      0\n",
      "Survived         0\n",
      "Pclass           0\n",
      "Name             0\n",
      "Sex              0\n",
      "Age            177\n",
      "SibSp            0\n",
      "Parch            0\n",
      "Ticket           0\n",
      "Fare             0\n",
      "Cabin          687\n",
      "Embarked         2\n",
      "dtype: int64\n",
      "\n",
      "\n",
      "\n",
      "Testing data with null values:\n",
      " PassengerId      0\n",
      "Pclass           0\n",
      "Name             0\n",
      "Sex              0\n",
      "Age             86\n",
      "SibSp            0\n",
      "Parch            0\n",
      "Ticket           0\n",
      "Fare             1\n",
      "Cabin          327\n",
      "Embarked         0\n",
      "dtype: int64\n"
     ]
    }
   ],
   "source": [
    "print(\"Training data with null values:\\n\",train_data.isnull().sum())\n",
    "print(\"\\n\\n\\nTesting data with null values:\\n\",test_data.isnull().sum())"
   ]
  },
  {
   "cell_type": "markdown",
   "metadata": {},
   "source": [
    "## Handling missing data:"
   ]
  },
  {
   "cell_type": "code",
   "execution_count": 9,
   "metadata": {},
   "outputs": [],
   "source": [
    "for data_ in data:\n",
    "    # filling median of age at null values , and not mean because mean can get affected by outliers which are very few elderly people in this case\n",
    "    data_[\"Age\"].fillna(data_[\"Age\"].median(), inplace=True)\n",
    "    # Filling null cabin with mode  (which are most frequent ie cabins type in which most of people out of all passengers are staying are staying)\n",
    "    data_[\"Cabin\"].fillna(data_[\"Cabin\"].mode()[0], inplace=True)\n",
    "    # Filling fare with mean as fares are continous not discrete  \n",
    "    data_[\"Fare\"].fillna(data_[\"Fare\"].mean(), inplace=True)\n",
    "    # Filling embarked with mode ie same as  from where most people have embarked from.\n",
    "    data_[\"Embarked\"].fillna(data_[\"Embarked\"].mode()[0], inplace=True)\n",
    "\n",
    "    "
   ]
  },
  {
   "cell_type": "markdown",
   "metadata": {},
   "source": [
    "## Double checking whether all missing values are handled"
   ]
  },
  {
   "cell_type": "code",
   "execution_count": 10,
   "metadata": {},
   "outputs": [
    {
     "name": "stdout",
     "output_type": "stream",
     "text": [
      "Training data with null values:\n",
      " PassengerId    0\n",
      "Survived       0\n",
      "Pclass         0\n",
      "Name           0\n",
      "Sex            0\n",
      "Age            0\n",
      "SibSp          0\n",
      "Parch          0\n",
      "Ticket         0\n",
      "Fare           0\n",
      "Cabin          0\n",
      "Embarked       0\n",
      "dtype: int64\n",
      "\n",
      "\n",
      "\n",
      "Testing data with null values:\n",
      " PassengerId    0\n",
      "Pclass         0\n",
      "Name           0\n",
      "Sex            0\n",
      "Age            0\n",
      "SibSp          0\n",
      "Parch          0\n",
      "Ticket         0\n",
      "Fare           0\n",
      "Cabin          0\n",
      "Embarked       0\n",
      "dtype: int64\n"
     ]
    }
   ],
   "source": [
    "print(\"Training data with null values:\\n\",train_data.isnull().sum())\n",
    "print(\"\\n\\n\\nTesting data with null values:\\n\",test_data.isnull().sum())"
   ]
  },
  {
   "cell_type": "markdown",
   "metadata": {},
   "source": [
    "## Data cleaned so now  we'll see some stats of the dataset\n"
   ]
  },
  {
   "cell_type": "code",
   "execution_count": 11,
   "metadata": {},
   "outputs": [
    {
     "data": {
      "text/html": [
       "<div>\n",
       "<style scoped>\n",
       "    .dataframe tbody tr th:only-of-type {\n",
       "        vertical-align: middle;\n",
       "    }\n",
       "\n",
       "    .dataframe tbody tr th {\n",
       "        vertical-align: top;\n",
       "    }\n",
       "\n",
       "    .dataframe thead th {\n",
       "        text-align: right;\n",
       "    }\n",
       "</style>\n",
       "<table border=\"1\" class=\"dataframe\">\n",
       "  <thead>\n",
       "    <tr style=\"text-align: right;\">\n",
       "      <th></th>\n",
       "      <th>PassengerId</th>\n",
       "      <th>Survived</th>\n",
       "      <th>Pclass</th>\n",
       "      <th>Age</th>\n",
       "      <th>SibSp</th>\n",
       "      <th>Parch</th>\n",
       "      <th>Fare</th>\n",
       "    </tr>\n",
       "  </thead>\n",
       "  <tbody>\n",
       "    <tr>\n",
       "      <th>count</th>\n",
       "      <td>891.000000</td>\n",
       "      <td>891.000000</td>\n",
       "      <td>891.000000</td>\n",
       "      <td>891.000000</td>\n",
       "      <td>891.000000</td>\n",
       "      <td>891.000000</td>\n",
       "      <td>891.000000</td>\n",
       "    </tr>\n",
       "    <tr>\n",
       "      <th>mean</th>\n",
       "      <td>446.000000</td>\n",
       "      <td>0.383838</td>\n",
       "      <td>2.308642</td>\n",
       "      <td>29.361582</td>\n",
       "      <td>0.523008</td>\n",
       "      <td>0.381594</td>\n",
       "      <td>32.204208</td>\n",
       "    </tr>\n",
       "    <tr>\n",
       "      <th>std</th>\n",
       "      <td>257.353842</td>\n",
       "      <td>0.486592</td>\n",
       "      <td>0.836071</td>\n",
       "      <td>13.019697</td>\n",
       "      <td>1.102743</td>\n",
       "      <td>0.806057</td>\n",
       "      <td>49.693429</td>\n",
       "    </tr>\n",
       "    <tr>\n",
       "      <th>min</th>\n",
       "      <td>1.000000</td>\n",
       "      <td>0.000000</td>\n",
       "      <td>1.000000</td>\n",
       "      <td>0.420000</td>\n",
       "      <td>0.000000</td>\n",
       "      <td>0.000000</td>\n",
       "      <td>0.000000</td>\n",
       "    </tr>\n",
       "    <tr>\n",
       "      <th>25%</th>\n",
       "      <td>223.500000</td>\n",
       "      <td>0.000000</td>\n",
       "      <td>2.000000</td>\n",
       "      <td>22.000000</td>\n",
       "      <td>0.000000</td>\n",
       "      <td>0.000000</td>\n",
       "      <td>7.910400</td>\n",
       "    </tr>\n",
       "    <tr>\n",
       "      <th>50%</th>\n",
       "      <td>446.000000</td>\n",
       "      <td>0.000000</td>\n",
       "      <td>3.000000</td>\n",
       "      <td>28.000000</td>\n",
       "      <td>0.000000</td>\n",
       "      <td>0.000000</td>\n",
       "      <td>14.454200</td>\n",
       "    </tr>\n",
       "    <tr>\n",
       "      <th>75%</th>\n",
       "      <td>668.500000</td>\n",
       "      <td>1.000000</td>\n",
       "      <td>3.000000</td>\n",
       "      <td>35.000000</td>\n",
       "      <td>1.000000</td>\n",
       "      <td>0.000000</td>\n",
       "      <td>31.000000</td>\n",
       "    </tr>\n",
       "    <tr>\n",
       "      <th>max</th>\n",
       "      <td>891.000000</td>\n",
       "      <td>1.000000</td>\n",
       "      <td>3.000000</td>\n",
       "      <td>80.000000</td>\n",
       "      <td>8.000000</td>\n",
       "      <td>6.000000</td>\n",
       "      <td>512.329200</td>\n",
       "    </tr>\n",
       "  </tbody>\n",
       "</table>\n",
       "</div>"
      ],
      "text/plain": [
       "       PassengerId    Survived      Pclass         Age       SibSp  \\\n",
       "count   891.000000  891.000000  891.000000  891.000000  891.000000   \n",
       "mean    446.000000    0.383838    2.308642   29.361582    0.523008   \n",
       "std     257.353842    0.486592    0.836071   13.019697    1.102743   \n",
       "min       1.000000    0.000000    1.000000    0.420000    0.000000   \n",
       "25%     223.500000    0.000000    2.000000   22.000000    0.000000   \n",
       "50%     446.000000    0.000000    3.000000   28.000000    0.000000   \n",
       "75%     668.500000    1.000000    3.000000   35.000000    1.000000   \n",
       "max     891.000000    1.000000    3.000000   80.000000    8.000000   \n",
       "\n",
       "            Parch        Fare  \n",
       "count  891.000000  891.000000  \n",
       "mean     0.381594   32.204208  \n",
       "std      0.806057   49.693429  \n",
       "min      0.000000    0.000000  \n",
       "25%      0.000000    7.910400  \n",
       "50%      0.000000   14.454200  \n",
       "75%      0.000000   31.000000  \n",
       "max      6.000000  512.329200  "
      ]
     },
     "execution_count": 11,
     "metadata": {},
     "output_type": "execute_result"
    }
   ],
   "source": [
    "train_data.describe()"
   ]
  },
  {
   "cell_type": "markdown",
   "metadata": {},
   "source": [
    "## Some small inferences from above data:\n",
    "   ### - there are only 25% of people who are paying higher than mean fare (must be rich people or boarded much before)\n",
    "   ### - average survival chance is 38%.\n",
    "   ### - 75% of people are younger than 35 years\n",
    "   ### - less than 25% people are with children and parents as 75% of Parch and SibSp is 0 & 1 respectively. "
   ]
  },
  {
   "cell_type": "code",
   "execution_count": null,
   "metadata": {},
   "outputs": [],
   "source": []
  },
  {
   "cell_type": "code",
   "execution_count": null,
   "metadata": {},
   "outputs": [],
   "source": []
  },
  {
   "cell_type": "markdown",
   "metadata": {},
   "source": [
    "# Feature Enginneering :\n",
    "###   -Creating new Features"
   ]
  },
  {
   "cell_type": "markdown",
   "metadata": {},
   "source": [
    "## Few features which would be better for models to learn :\n",
    "1. *If you have a family then you will be having more chance of surviving*\n",
    "2. *If instead of age we created a age bins then it would be easier to predict that if a person is belonging to this age bucket he is likely to survive or not and same with fare.*\n",
    "3. *Being alone or being with other family is surely affect whether he/she will survive or not*\n",
    "4. *Paying high fare can mean you are belonging to high class or are a VIP then they will be rescued first.*"
   ]
  },
  {
   "cell_type": "code",
   "execution_count": 12,
   "metadata": {},
   "outputs": [
    {
     "name": "stdout",
     "output_type": "stream",
     "text": [
      "FamilySize :\n",
      " 1     537\n",
      "2     161\n",
      "3     102\n",
      "4      29\n",
      "6      22\n",
      "5      15\n",
      "7      12\n",
      "11      7\n",
      "8       6\n",
      "Name: familysize, dtype: int64\n",
      "\n",
      "\n",
      "\n",
      "Alone :\n",
      " 1    537\n",
      "0    354\n",
      "Name: alone, dtype: int64\n",
      "\n",
      "\n",
      "\n",
      "AgeBin :\n",
      " (16.0, 32.0]     525\n",
      "(32.0, 48.0]     186\n",
      "(-0.08, 16.0]    100\n",
      "(48.0, 64.0]      69\n",
      "(64.0, 80.0]      11\n",
      "Name: agebin, dtype: int64\n",
      "\n",
      "\n",
      "\n",
      "FareBin :\n",
      " (11.342, 21.679]    85\n",
      "(-0.001, 7.796]     85\n",
      "(46.34, 512.329]    84\n",
      "(21.679, 46.34]     82\n",
      "(7.796, 11.342]     82\n",
      "Name: farebin, dtype: int64\n"
     ]
    },
    {
     "name": "stderr",
     "output_type": "stream",
     "text": [
      "/home/aman/myenv/lib/python3.6/site-packages/pandas/core/indexing.py:202: SettingWithCopyWarning: \n",
      "A value is trying to be set on a copy of a slice from a DataFrame\n",
      "\n",
      "See the caveats in the documentation: http://pandas.pydata.org/pandas-docs/stable/user_guide/indexing.html#returning-a-view-versus-a-copy\n",
      "  self._setitem_with_indexer(indexer, value)\n"
     ]
    }
   ],
   "source": [
    "\n",
    "for data_ in data:\n",
    "    \n",
    "    #adding sibling, cousins, parents and the person to get the size of the family onboard\n",
    "    data_[\"familysize\"] = data_[\"SibSp\"] + data_[\"Parch\"] + 1;\n",
    "    \n",
    "    #Dividing age into bins of age-gap as it will be more categorical as compared to a continuos value like age\n",
    "    data_[\"agebin\"] = pd.cut(data_[\"Age\"].astype(int), 5)\n",
    "    \n",
    "    #Creating bins for fares also \n",
    "    data_[\"farebin\"] = pd.qcut(data_[\"Fare\"],5)\n",
    "    \n",
    "    #Assigning 1 to everyone ie everyone is alone and then cheking if its family size if >1 then it is not alone so the value is set to 0 \n",
    "    data_[\"alone\"] = 1\n",
    "    data_[\"alone\"].loc[data_[\"familysize\"] > 1] = 0\n",
    "\n",
    "    \n",
    "#Printing newly created features along with their values   \n",
    "print(\"FamilySize :\\n\", data[0].familysize.value_counts())\n",
    "print(\"\\n\\n\\nAlone :\\n\", data[0].alone.value_counts())\n",
    "print(\"\\n\\n\\nAgeBin :\\n\", data[0].agebin.value_counts())\n",
    "print(\"\\n\\n\\nFareBin :\\n\", data[1].farebin.value_counts())"
   ]
  },
  {
   "cell_type": "code",
   "execution_count": 13,
   "metadata": {},
   "outputs": [
    {
     "data": {
      "text/html": [
       "<div>\n",
       "<style scoped>\n",
       "    .dataframe tbody tr th:only-of-type {\n",
       "        vertical-align: middle;\n",
       "    }\n",
       "\n",
       "    .dataframe tbody tr th {\n",
       "        vertical-align: top;\n",
       "    }\n",
       "\n",
       "    .dataframe thead th {\n",
       "        text-align: right;\n",
       "    }\n",
       "</style>\n",
       "<table border=\"1\" class=\"dataframe\">\n",
       "  <thead>\n",
       "    <tr style=\"text-align: right;\">\n",
       "      <th></th>\n",
       "      <th>PassengerId</th>\n",
       "      <th>Survived</th>\n",
       "      <th>Pclass</th>\n",
       "      <th>Name</th>\n",
       "      <th>Sex</th>\n",
       "      <th>Age</th>\n",
       "      <th>SibSp</th>\n",
       "      <th>Parch</th>\n",
       "      <th>Ticket</th>\n",
       "      <th>Fare</th>\n",
       "      <th>Cabin</th>\n",
       "      <th>Embarked</th>\n",
       "      <th>familysize</th>\n",
       "      <th>agebin</th>\n",
       "      <th>farebin</th>\n",
       "      <th>alone</th>\n",
       "    </tr>\n",
       "  </thead>\n",
       "  <tbody>\n",
       "    <tr>\n",
       "      <th>0</th>\n",
       "      <td>1</td>\n",
       "      <td>0</td>\n",
       "      <td>3</td>\n",
       "      <td>Braund, Mr. Owen Harris</td>\n",
       "      <td>male</td>\n",
       "      <td>22.0</td>\n",
       "      <td>1</td>\n",
       "      <td>0</td>\n",
       "      <td>A/5 21171</td>\n",
       "      <td>7.2500</td>\n",
       "      <td>B96 B98</td>\n",
       "      <td>S</td>\n",
       "      <td>2</td>\n",
       "      <td>(16.0, 32.0]</td>\n",
       "      <td>(-0.001, 7.854]</td>\n",
       "      <td>0</td>\n",
       "    </tr>\n",
       "    <tr>\n",
       "      <th>1</th>\n",
       "      <td>2</td>\n",
       "      <td>1</td>\n",
       "      <td>1</td>\n",
       "      <td>Cumings, Mrs. John Bradley (Florence Briggs Th...</td>\n",
       "      <td>female</td>\n",
       "      <td>38.0</td>\n",
       "      <td>1</td>\n",
       "      <td>0</td>\n",
       "      <td>PC 17599</td>\n",
       "      <td>71.2833</td>\n",
       "      <td>C85</td>\n",
       "      <td>C</td>\n",
       "      <td>2</td>\n",
       "      <td>(32.0, 48.0]</td>\n",
       "      <td>(39.688, 512.329]</td>\n",
       "      <td>0</td>\n",
       "    </tr>\n",
       "    <tr>\n",
       "      <th>2</th>\n",
       "      <td>3</td>\n",
       "      <td>1</td>\n",
       "      <td>3</td>\n",
       "      <td>Heikkinen, Miss. Laina</td>\n",
       "      <td>female</td>\n",
       "      <td>26.0</td>\n",
       "      <td>0</td>\n",
       "      <td>0</td>\n",
       "      <td>STON/O2. 3101282</td>\n",
       "      <td>7.9250</td>\n",
       "      <td>B96 B98</td>\n",
       "      <td>S</td>\n",
       "      <td>1</td>\n",
       "      <td>(16.0, 32.0]</td>\n",
       "      <td>(7.854, 10.5]</td>\n",
       "      <td>1</td>\n",
       "    </tr>\n",
       "    <tr>\n",
       "      <th>3</th>\n",
       "      <td>4</td>\n",
       "      <td>1</td>\n",
       "      <td>1</td>\n",
       "      <td>Futrelle, Mrs. Jacques Heath (Lily May Peel)</td>\n",
       "      <td>female</td>\n",
       "      <td>35.0</td>\n",
       "      <td>1</td>\n",
       "      <td>0</td>\n",
       "      <td>113803</td>\n",
       "      <td>53.1000</td>\n",
       "      <td>C123</td>\n",
       "      <td>S</td>\n",
       "      <td>2</td>\n",
       "      <td>(32.0, 48.0]</td>\n",
       "      <td>(39.688, 512.329]</td>\n",
       "      <td>0</td>\n",
       "    </tr>\n",
       "    <tr>\n",
       "      <th>4</th>\n",
       "      <td>5</td>\n",
       "      <td>0</td>\n",
       "      <td>3</td>\n",
       "      <td>Allen, Mr. William Henry</td>\n",
       "      <td>male</td>\n",
       "      <td>35.0</td>\n",
       "      <td>0</td>\n",
       "      <td>0</td>\n",
       "      <td>373450</td>\n",
       "      <td>8.0500</td>\n",
       "      <td>B96 B98</td>\n",
       "      <td>S</td>\n",
       "      <td>1</td>\n",
       "      <td>(32.0, 48.0]</td>\n",
       "      <td>(7.854, 10.5]</td>\n",
       "      <td>1</td>\n",
       "    </tr>\n",
       "  </tbody>\n",
       "</table>\n",
       "</div>"
      ],
      "text/plain": [
       "   PassengerId  Survived  Pclass  \\\n",
       "0            1         0       3   \n",
       "1            2         1       1   \n",
       "2            3         1       3   \n",
       "3            4         1       1   \n",
       "4            5         0       3   \n",
       "\n",
       "                                                Name     Sex   Age  SibSp  \\\n",
       "0                            Braund, Mr. Owen Harris    male  22.0      1   \n",
       "1  Cumings, Mrs. John Bradley (Florence Briggs Th...  female  38.0      1   \n",
       "2                             Heikkinen, Miss. Laina  female  26.0      0   \n",
       "3       Futrelle, Mrs. Jacques Heath (Lily May Peel)  female  35.0      1   \n",
       "4                           Allen, Mr. William Henry    male  35.0      0   \n",
       "\n",
       "   Parch            Ticket     Fare    Cabin Embarked  familysize  \\\n",
       "0      0         A/5 21171   7.2500  B96 B98        S           2   \n",
       "1      0          PC 17599  71.2833      C85        C           2   \n",
       "2      0  STON/O2. 3101282   7.9250  B96 B98        S           1   \n",
       "3      0            113803  53.1000     C123        S           2   \n",
       "4      0            373450   8.0500  B96 B98        S           1   \n",
       "\n",
       "         agebin            farebin  alone  \n",
       "0  (16.0, 32.0]    (-0.001, 7.854]      0  \n",
       "1  (32.0, 48.0]  (39.688, 512.329]      0  \n",
       "2  (16.0, 32.0]      (7.854, 10.5]      1  \n",
       "3  (32.0, 48.0]  (39.688, 512.329]      0  \n",
       "4  (32.0, 48.0]      (7.854, 10.5]      1  "
      ]
     },
     "execution_count": 13,
     "metadata": {},
     "output_type": "execute_result"
    }
   ],
   "source": [
    "data[0].head()"
   ]
  },
  {
   "cell_type": "code",
   "execution_count": 14,
   "metadata": {},
   "outputs": [
    {
     "data": {
      "text/html": [
       "<div>\n",
       "<style scoped>\n",
       "    .dataframe tbody tr th:only-of-type {\n",
       "        vertical-align: middle;\n",
       "    }\n",
       "\n",
       "    .dataframe tbody tr th {\n",
       "        vertical-align: top;\n",
       "    }\n",
       "\n",
       "    .dataframe thead th {\n",
       "        text-align: right;\n",
       "    }\n",
       "</style>\n",
       "<table border=\"1\" class=\"dataframe\">\n",
       "  <thead>\n",
       "    <tr style=\"text-align: right;\">\n",
       "      <th></th>\n",
       "      <th>PassengerId</th>\n",
       "      <th>Pclass</th>\n",
       "      <th>Name</th>\n",
       "      <th>Sex</th>\n",
       "      <th>Age</th>\n",
       "      <th>SibSp</th>\n",
       "      <th>Parch</th>\n",
       "      <th>Ticket</th>\n",
       "      <th>Fare</th>\n",
       "      <th>Cabin</th>\n",
       "      <th>Embarked</th>\n",
       "      <th>familysize</th>\n",
       "      <th>agebin</th>\n",
       "      <th>farebin</th>\n",
       "      <th>alone</th>\n",
       "    </tr>\n",
       "  </thead>\n",
       "  <tbody>\n",
       "    <tr>\n",
       "      <th>0</th>\n",
       "      <td>892</td>\n",
       "      <td>3</td>\n",
       "      <td>Kelly, Mr. James</td>\n",
       "      <td>male</td>\n",
       "      <td>34.5</td>\n",
       "      <td>0</td>\n",
       "      <td>0</td>\n",
       "      <td>330911</td>\n",
       "      <td>7.8292</td>\n",
       "      <td>B57 B59 B63 B66</td>\n",
       "      <td>Q</td>\n",
       "      <td>1</td>\n",
       "      <td>(30.4, 45.6]</td>\n",
       "      <td>(7.796, 11.342]</td>\n",
       "      <td>1</td>\n",
       "    </tr>\n",
       "    <tr>\n",
       "      <th>1</th>\n",
       "      <td>893</td>\n",
       "      <td>3</td>\n",
       "      <td>Wilkes, Mrs. James (Ellen Needs)</td>\n",
       "      <td>female</td>\n",
       "      <td>47.0</td>\n",
       "      <td>1</td>\n",
       "      <td>0</td>\n",
       "      <td>363272</td>\n",
       "      <td>7.0000</td>\n",
       "      <td>B57 B59 B63 B66</td>\n",
       "      <td>S</td>\n",
       "      <td>2</td>\n",
       "      <td>(45.6, 60.8]</td>\n",
       "      <td>(-0.001, 7.796]</td>\n",
       "      <td>0</td>\n",
       "    </tr>\n",
       "    <tr>\n",
       "      <th>2</th>\n",
       "      <td>894</td>\n",
       "      <td>2</td>\n",
       "      <td>Myles, Mr. Thomas Francis</td>\n",
       "      <td>male</td>\n",
       "      <td>62.0</td>\n",
       "      <td>0</td>\n",
       "      <td>0</td>\n",
       "      <td>240276</td>\n",
       "      <td>9.6875</td>\n",
       "      <td>B57 B59 B63 B66</td>\n",
       "      <td>Q</td>\n",
       "      <td>1</td>\n",
       "      <td>(60.8, 76.0]</td>\n",
       "      <td>(7.796, 11.342]</td>\n",
       "      <td>1</td>\n",
       "    </tr>\n",
       "    <tr>\n",
       "      <th>3</th>\n",
       "      <td>895</td>\n",
       "      <td>3</td>\n",
       "      <td>Wirz, Mr. Albert</td>\n",
       "      <td>male</td>\n",
       "      <td>27.0</td>\n",
       "      <td>0</td>\n",
       "      <td>0</td>\n",
       "      <td>315154</td>\n",
       "      <td>8.6625</td>\n",
       "      <td>B57 B59 B63 B66</td>\n",
       "      <td>S</td>\n",
       "      <td>1</td>\n",
       "      <td>(15.2, 30.4]</td>\n",
       "      <td>(7.796, 11.342]</td>\n",
       "      <td>1</td>\n",
       "    </tr>\n",
       "    <tr>\n",
       "      <th>4</th>\n",
       "      <td>896</td>\n",
       "      <td>3</td>\n",
       "      <td>Hirvonen, Mrs. Alexander (Helga E Lindqvist)</td>\n",
       "      <td>female</td>\n",
       "      <td>22.0</td>\n",
       "      <td>1</td>\n",
       "      <td>1</td>\n",
       "      <td>3101298</td>\n",
       "      <td>12.2875</td>\n",
       "      <td>B57 B59 B63 B66</td>\n",
       "      <td>S</td>\n",
       "      <td>3</td>\n",
       "      <td>(15.2, 30.4]</td>\n",
       "      <td>(11.342, 21.679]</td>\n",
       "      <td>0</td>\n",
       "    </tr>\n",
       "  </tbody>\n",
       "</table>\n",
       "</div>"
      ],
      "text/plain": [
       "   PassengerId  Pclass                                          Name     Sex  \\\n",
       "0          892       3                              Kelly, Mr. James    male   \n",
       "1          893       3              Wilkes, Mrs. James (Ellen Needs)  female   \n",
       "2          894       2                     Myles, Mr. Thomas Francis    male   \n",
       "3          895       3                              Wirz, Mr. Albert    male   \n",
       "4          896       3  Hirvonen, Mrs. Alexander (Helga E Lindqvist)  female   \n",
       "\n",
       "    Age  SibSp  Parch   Ticket     Fare            Cabin Embarked  familysize  \\\n",
       "0  34.5      0      0   330911   7.8292  B57 B59 B63 B66        Q           1   \n",
       "1  47.0      1      0   363272   7.0000  B57 B59 B63 B66        S           2   \n",
       "2  62.0      0      0   240276   9.6875  B57 B59 B63 B66        Q           1   \n",
       "3  27.0      0      0   315154   8.6625  B57 B59 B63 B66        S           1   \n",
       "4  22.0      1      1  3101298  12.2875  B57 B59 B63 B66        S           3   \n",
       "\n",
       "         agebin           farebin  alone  \n",
       "0  (30.4, 45.6]   (7.796, 11.342]      1  \n",
       "1  (45.6, 60.8]   (-0.001, 7.796]      0  \n",
       "2  (60.8, 76.0]   (7.796, 11.342]      1  \n",
       "3  (15.2, 30.4]   (7.796, 11.342]      1  \n",
       "4  (15.2, 30.4]  (11.342, 21.679]      0  "
      ]
     },
     "execution_count": 14,
     "metadata": {},
     "output_type": "execute_result"
    }
   ],
   "source": [
    "data[1].head()"
   ]
  },
  {
   "cell_type": "markdown",
   "metadata": {},
   "source": [
    "## Handling Categorical Datatypes:"
   ]
  },
  {
   "cell_type": "code",
   "execution_count": 15,
   "metadata": {},
   "outputs": [],
   "source": [
    "label = LabelEncoder()\n",
    "\n",
    "for data_ in data:\n",
    "    data_[\"Sex\"] = label.fit_transform(data_[\"Sex\"])\n",
    "    data_[\"Embarked\"] = label.fit_transform(data_[\"Embarked\"])\n",
    "    data_[\"Cabin\"] = label.fit_transform(data_[\"Cabin\"])\n",
    "    data_[\"agebin\"] = label.fit_transform(data_[\"agebin\"])\n",
    "    data_[\"farebin\"] = label.fit_transform(data_[\"farebin\"])"
   ]
  },
  {
   "cell_type": "code",
   "execution_count": 16,
   "metadata": {},
   "outputs": [
    {
     "data": {
      "text/html": [
       "<div>\n",
       "<style scoped>\n",
       "    .dataframe tbody tr th:only-of-type {\n",
       "        vertical-align: middle;\n",
       "    }\n",
       "\n",
       "    .dataframe tbody tr th {\n",
       "        vertical-align: top;\n",
       "    }\n",
       "\n",
       "    .dataframe thead th {\n",
       "        text-align: right;\n",
       "    }\n",
       "</style>\n",
       "<table border=\"1\" class=\"dataframe\">\n",
       "  <thead>\n",
       "    <tr style=\"text-align: right;\">\n",
       "      <th></th>\n",
       "      <th>PassengerId</th>\n",
       "      <th>Survived</th>\n",
       "      <th>Pclass</th>\n",
       "      <th>Name</th>\n",
       "      <th>Sex</th>\n",
       "      <th>Age</th>\n",
       "      <th>SibSp</th>\n",
       "      <th>Parch</th>\n",
       "      <th>Ticket</th>\n",
       "      <th>Fare</th>\n",
       "      <th>Cabin</th>\n",
       "      <th>Embarked</th>\n",
       "      <th>familysize</th>\n",
       "      <th>agebin</th>\n",
       "      <th>farebin</th>\n",
       "      <th>alone</th>\n",
       "    </tr>\n",
       "  </thead>\n",
       "  <tbody>\n",
       "    <tr>\n",
       "      <th>0</th>\n",
       "      <td>1</td>\n",
       "      <td>0</td>\n",
       "      <td>3</td>\n",
       "      <td>Braund, Mr. Owen Harris</td>\n",
       "      <td>1</td>\n",
       "      <td>22.0</td>\n",
       "      <td>1</td>\n",
       "      <td>0</td>\n",
       "      <td>A/5 21171</td>\n",
       "      <td>7.2500</td>\n",
       "      <td>47</td>\n",
       "      <td>2</td>\n",
       "      <td>2</td>\n",
       "      <td>1</td>\n",
       "      <td>0</td>\n",
       "      <td>0</td>\n",
       "    </tr>\n",
       "    <tr>\n",
       "      <th>1</th>\n",
       "      <td>2</td>\n",
       "      <td>1</td>\n",
       "      <td>1</td>\n",
       "      <td>Cumings, Mrs. John Bradley (Florence Briggs Th...</td>\n",
       "      <td>0</td>\n",
       "      <td>38.0</td>\n",
       "      <td>1</td>\n",
       "      <td>0</td>\n",
       "      <td>PC 17599</td>\n",
       "      <td>71.2833</td>\n",
       "      <td>81</td>\n",
       "      <td>0</td>\n",
       "      <td>2</td>\n",
       "      <td>2</td>\n",
       "      <td>4</td>\n",
       "      <td>0</td>\n",
       "    </tr>\n",
       "    <tr>\n",
       "      <th>2</th>\n",
       "      <td>3</td>\n",
       "      <td>1</td>\n",
       "      <td>3</td>\n",
       "      <td>Heikkinen, Miss. Laina</td>\n",
       "      <td>0</td>\n",
       "      <td>26.0</td>\n",
       "      <td>0</td>\n",
       "      <td>0</td>\n",
       "      <td>STON/O2. 3101282</td>\n",
       "      <td>7.9250</td>\n",
       "      <td>47</td>\n",
       "      <td>2</td>\n",
       "      <td>1</td>\n",
       "      <td>1</td>\n",
       "      <td>1</td>\n",
       "      <td>1</td>\n",
       "    </tr>\n",
       "    <tr>\n",
       "      <th>3</th>\n",
       "      <td>4</td>\n",
       "      <td>1</td>\n",
       "      <td>1</td>\n",
       "      <td>Futrelle, Mrs. Jacques Heath (Lily May Peel)</td>\n",
       "      <td>0</td>\n",
       "      <td>35.0</td>\n",
       "      <td>1</td>\n",
       "      <td>0</td>\n",
       "      <td>113803</td>\n",
       "      <td>53.1000</td>\n",
       "      <td>55</td>\n",
       "      <td>2</td>\n",
       "      <td>2</td>\n",
       "      <td>2</td>\n",
       "      <td>4</td>\n",
       "      <td>0</td>\n",
       "    </tr>\n",
       "    <tr>\n",
       "      <th>4</th>\n",
       "      <td>5</td>\n",
       "      <td>0</td>\n",
       "      <td>3</td>\n",
       "      <td>Allen, Mr. William Henry</td>\n",
       "      <td>1</td>\n",
       "      <td>35.0</td>\n",
       "      <td>0</td>\n",
       "      <td>0</td>\n",
       "      <td>373450</td>\n",
       "      <td>8.0500</td>\n",
       "      <td>47</td>\n",
       "      <td>2</td>\n",
       "      <td>1</td>\n",
       "      <td>2</td>\n",
       "      <td>1</td>\n",
       "      <td>1</td>\n",
       "    </tr>\n",
       "  </tbody>\n",
       "</table>\n",
       "</div>"
      ],
      "text/plain": [
       "   PassengerId  Survived  Pclass  \\\n",
       "0            1         0       3   \n",
       "1            2         1       1   \n",
       "2            3         1       3   \n",
       "3            4         1       1   \n",
       "4            5         0       3   \n",
       "\n",
       "                                                Name  Sex   Age  SibSp  Parch  \\\n",
       "0                            Braund, Mr. Owen Harris    1  22.0      1      0   \n",
       "1  Cumings, Mrs. John Bradley (Florence Briggs Th...    0  38.0      1      0   \n",
       "2                             Heikkinen, Miss. Laina    0  26.0      0      0   \n",
       "3       Futrelle, Mrs. Jacques Heath (Lily May Peel)    0  35.0      1      0   \n",
       "4                           Allen, Mr. William Henry    1  35.0      0      0   \n",
       "\n",
       "             Ticket     Fare  Cabin  Embarked  familysize  agebin  farebin  \\\n",
       "0         A/5 21171   7.2500     47         2           2       1        0   \n",
       "1          PC 17599  71.2833     81         0           2       2        4   \n",
       "2  STON/O2. 3101282   7.9250     47         2           1       1        1   \n",
       "3            113803  53.1000     55         2           2       2        4   \n",
       "4            373450   8.0500     47         2           1       2        1   \n",
       "\n",
       "   alone  \n",
       "0      0  \n",
       "1      0  \n",
       "2      1  \n",
       "3      0  \n",
       "4      1  "
      ]
     },
     "execution_count": 16,
     "metadata": {},
     "output_type": "execute_result"
    }
   ],
   "source": [
    "data[0].head()"
   ]
  },
  {
   "cell_type": "markdown",
   "metadata": {},
   "source": [
    "## Double checking data"
   ]
  },
  {
   "cell_type": "code",
   "execution_count": 17,
   "metadata": {},
   "outputs": [
    {
     "name": "stdout",
     "output_type": "stream",
     "text": [
      "<class 'pandas.core.frame.DataFrame'>\n",
      "RangeIndex: 891 entries, 0 to 890\n",
      "Data columns (total 16 columns):\n",
      "PassengerId    891 non-null int64\n",
      "Survived       891 non-null int64\n",
      "Pclass         891 non-null int64\n",
      "Name           891 non-null object\n",
      "Sex            891 non-null int64\n",
      "Age            891 non-null float64\n",
      "SibSp          891 non-null int64\n",
      "Parch          891 non-null int64\n",
      "Ticket         891 non-null object\n",
      "Fare           891 non-null float64\n",
      "Cabin          891 non-null int64\n",
      "Embarked       891 non-null int64\n",
      "familysize     891 non-null int64\n",
      "agebin         891 non-null int64\n",
      "farebin        891 non-null int64\n",
      "alone          891 non-null int64\n",
      "dtypes: float64(2), int64(12), object(2)\n",
      "memory usage: 111.5+ KB\n",
      "Training data with null values:\n",
      " None\n",
      "<class 'pandas.core.frame.DataFrame'>\n",
      "RangeIndex: 418 entries, 0 to 417\n",
      "Data columns (total 15 columns):\n",
      "PassengerId    418 non-null int64\n",
      "Pclass         418 non-null int64\n",
      "Name           418 non-null object\n",
      "Sex            418 non-null int64\n",
      "Age            418 non-null float64\n",
      "SibSp          418 non-null int64\n",
      "Parch          418 non-null int64\n",
      "Ticket         418 non-null object\n",
      "Fare           418 non-null float64\n",
      "Cabin          418 non-null int64\n",
      "Embarked       418 non-null int64\n",
      "familysize     418 non-null int64\n",
      "agebin         418 non-null int64\n",
      "farebin        418 non-null int64\n",
      "alone          418 non-null int64\n",
      "dtypes: float64(2), int64(11), object(2)\n",
      "memory usage: 49.1+ KB\n",
      "\n",
      "\n",
      "\n",
      "Testing data with null values:\n",
      " None\n"
     ]
    }
   ],
   "source": [
    "print(\"Training data with null values:\\n\",train_data.info())\n",
    "print(\"\\n\\n\\nTesting data with null values:\\n\",test_data.info())"
   ]
  },
  {
   "cell_type": "code",
   "execution_count": null,
   "metadata": {},
   "outputs": [],
   "source": []
  },
  {
   "cell_type": "code",
   "execution_count": null,
   "metadata": {},
   "outputs": [],
   "source": []
  },
  {
   "cell_type": "markdown",
   "metadata": {},
   "source": [
    "# Some Visualization to gain some new insights:"
   ]
  },
  {
   "cell_type": "code",
   "execution_count": 18,
   "metadata": {},
   "outputs": [
    {
     "data": {
      "text/plain": [
       "<matplotlib.legend.Legend at 0x7fed5d39b208>"
      ]
     },
     "execution_count": 18,
     "metadata": {},
     "output_type": "execute_result"
    },
    {
     "data": {
      "image/png": "[encoded data removed]",
      "text/plain": [
       "<Figure size 720x720 with 4 Axes>"
      ]
     },
     "metadata": {
      "needs_background": "light"
     },
     "output_type": "display_data"
    }
   ],
   "source": [
    "#Plotting histograms for various features\n",
    "\n",
    "plt.figure(figsize=(10,10))\n",
    "\n",
    "plt.subplot(221)\n",
    "plt.hist(x = [train_data[train_data['Survived']==1]['familysize'], train_data[train_data['Survived']==0]['familysize']], \n",
    "         stacked=True, color = ['g','r'],label = ['Survived','Dead'])\n",
    "plt.title('Family Size Histogram by Survival')\n",
    "plt.xlabel('Family Size (#)')\n",
    "plt.ylabel('# of Passengers')\n",
    "plt.legend()\n",
    "\n",
    "plt.subplot(222)\n",
    "plt.hist(x = [train_data[train_data['Survived']==1]['farebin'], train_data[train_data['Survived']==0]['farebin']], \n",
    "         stacked=True, color = ['g','r'],label = ['Survived','Dead'])\n",
    "plt.title('FareBin Histogram by Survival')\n",
    "plt.xlabel('FareBin(#)')\n",
    "plt.ylabel('# of Passengers')\n",
    "plt.legend()\n",
    "\n",
    "\n",
    "plt.subplot(223)\n",
    "plt.hist(x = [train_data[train_data['Survived']==1]['Age'], train_data[train_data['Survived']==0]['Age']], \n",
    "         stacked=True, color = ['g','r'],label = ['Survived','Dead'])\n",
    "plt.title('Age Histogram by Survival')\n",
    "plt.xlabel('Age (#)')\n",
    "plt.ylabel('# of Passengers')\n",
    "plt.legend()\n",
    "\n",
    "\n",
    "plt.subplot(224)\n",
    "plt.hist(x = [train_data[train_data['Survived']==1]['Sex'], train_data[train_data['Survived']==0]['Sex']], \n",
    "         stacked=True, color = ['g','r'],label = ['Survived','Dead'])\n",
    "plt.title('Sex Histogram by Survival')\n",
    "plt.xlabel('Sex (#)')\n",
    "plt.ylabel('# of Passengers')\n",
    "plt.legend()\n"
   ]
  },
  {
   "cell_type": "code",
   "execution_count": 19,
   "metadata": {},
   "outputs": [
    {
     "data": {
      "text/plain": [
       "<matplotlib.axes._subplots.AxesSubplot at 0x7fed5ce553c8>"
      ]
     },
     "execution_count": 19,
     "metadata": {},
     "output_type": "execute_result"
    },
    {
     "data": {
      "image/png": "[encoded data removed]",
      "text/plain": [
       "<Figure size 1152x720 with 2 Axes>"
      ]
     },
     "metadata": {
      "needs_background": "light"
     },
     "output_type": "display_data"
    }
   ],
   "source": [
    "plt.figure(figsize = (16,10))\n",
    "sns.heatmap(train_data.corr(), annot=True, cmap=\"YlGnBu\")"
   ]
  },
  {
   "cell_type": "markdown",
   "metadata": {},
   "source": [
    "## From above analysis we can see that survival is very much correlated with:\n",
    "### 1. farebin\n",
    "### 2. Fare\n",
    "### 3. Sex\n",
    "### 4. Pclass\n",
    "### 5. Cabin\n",
    "### 6. Alone"
   ]
  },
  {
   "cell_type": "markdown",
   "metadata": {},
   "source": [
    "## Dropping unwanted columns"
   ]
  },
  {
   "cell_type": "code",
   "execution_count": 20,
   "metadata": {},
   "outputs": [
    {
     "data": {
      "text/plain": [
       "Index(['PassengerId', 'Survived', 'Pclass', 'Name', 'Sex', 'Age', 'SibSp',\n",
       "       'Parch', 'Ticket', 'Fare', 'Cabin', 'Embarked', 'familysize', 'agebin',\n",
       "       'farebin', 'alone'],\n",
       "      dtype='object')"
      ]
     },
     "execution_count": 20,
     "metadata": {},
     "output_type": "execute_result"
    }
   ],
   "source": [
    "train_data.columns"
   ]
  },
  {
   "cell_type": "code",
   "execution_count": 21,
   "metadata": {},
   "outputs": [],
   "source": [
    "clean_train = np.array( train_data.drop(columns=['PassengerId', 'Survived', 'Name','Ticket']))\n",
    "clean_target = np.array( train_data[\"Survived\"] )\n",
    "clean_test_data = np.array( test_data.drop(columns=['PassengerId','Name','Ticket']))"
   ]
  },
  {
   "cell_type": "code",
   "execution_count": 22,
   "metadata": {},
   "outputs": [
    {
     "name": "stdout",
     "output_type": "stream",
     "text": [
      "(891, 12) (418, 12)\n"
     ]
    }
   ],
   "source": [
    "print(clean_train.shape, clean_test_data.shape)"
   ]
  },
  {
   "cell_type": "code",
   "execution_count": null,
   "metadata": {},
   "outputs": [],
   "source": []
  },
  {
   "cell_type": "markdown",
   "metadata": {},
   "source": [
    "# Select and Train Model"
   ]
  },
  {
   "cell_type": "code",
   "execution_count": 23,
   "metadata": {},
   "outputs": [],
   "source": [
    "#SPLITTING DATA\n",
    "X_train, X_test, y_train, y_test = train_test_split(clean_train, clean_target, test_size=0.25, random_state=42)"
   ]
  },
  {
   "cell_type": "code",
   "execution_count": 24,
   "metadata": {},
   "outputs": [
    {
     "name": "stdout",
     "output_type": "stream",
     "text": [
      "(668, 12) (668,) (223, 12) (223,)\n"
     ]
    }
   ],
   "source": [
    "print(X_train.shape,y_train.shape, X_test.shape, y_test.shape)"
   ]
  },
  {
   "cell_type": "markdown",
   "metadata": {},
   "source": [
    "## Initializing Estimators"
   ]
  },
  {
   "cell_type": "code",
   "execution_count": 25,
   "metadata": {},
   "outputs": [],
   "source": [
    "random_forest_clf = RandomForestClassifier(n_estimators=10)\n",
    "extra_trees_clf = ExtraTreesClassifier(n_estimators=10)\n",
    "lg_reg_clf = LogisticRegression()\n",
    "bag_clf = BaggingClassifier(n_estimators=10)\n",
    "ada_clf = AdaBoostClassifier(n_estimators=10)\n",
    "grad_clf = GradientBoostingClassifier(n_estimators=10)\n",
    "xgb_clf = XGBClassifier(n_estimators=10)"
   ]
  },
  {
   "cell_type": "code",
   "execution_count": 26,
   "metadata": {},
   "outputs": [],
   "source": [
    "# Helping_Function to show Cross Val Scores\n",
    "def display_scores(scores):\n",
    "    print(\"Scores:\", scores)\n",
    "    print(\"Mean:\", scores.mean())\n",
    "    print(\"Standard deviation:\", scores.std())"
   ]
  },
  {
   "cell_type": "code",
   "execution_count": 27,
   "metadata": {},
   "outputs": [
    {
     "name": "stderr",
     "output_type": "stream",
     "text": [
      "/home/aman/myenv/lib/python3.6/site-packages/sklearn/linear_model/logistic.py:432: FutureWarning: Default solver will be changed to 'lbfgs' in 0.22. Specify a solver to silence this warning.\n",
      "  FutureWarning)\n",
      "/home/aman/myenv/lib/python3.6/site-packages/sklearn/linear_model/logistic.py:432: FutureWarning: Default solver will be changed to 'lbfgs' in 0.22. Specify a solver to silence this warning.\n",
      "  FutureWarning)\n",
      "/home/aman/myenv/lib/python3.6/site-packages/sklearn/linear_model/logistic.py:432: FutureWarning: Default solver will be changed to 'lbfgs' in 0.22. Specify a solver to silence this warning.\n",
      "  FutureWarning)\n",
      "/home/aman/myenv/lib/python3.6/site-packages/sklearn/linear_model/logistic.py:432: FutureWarning: Default solver will be changed to 'lbfgs' in 0.22. Specify a solver to silence this warning.\n",
      "  FutureWarning)\n",
      "/home/aman/myenv/lib/python3.6/site-packages/sklearn/linear_model/logistic.py:432: FutureWarning: Default solver will be changed to 'lbfgs' in 0.22. Specify a solver to silence this warning.\n",
      "  FutureWarning)\n",
      "/home/aman/myenv/lib/python3.6/site-packages/sklearn/linear_model/logistic.py:432: FutureWarning: Default solver will be changed to 'lbfgs' in 0.22. Specify a solver to silence this warning.\n",
      "  FutureWarning)\n",
      "/home/aman/myenv/lib/python3.6/site-packages/sklearn/linear_model/logistic.py:432: FutureWarning: Default solver will be changed to 'lbfgs' in 0.22. Specify a solver to silence this warning.\n",
      "  FutureWarning)\n"
     ]
    }
   ],
   "source": [
    "#FITTING EACH ESTIMATOR \n",
    "estimators = [random_forest_clf, extra_trees_clf, lg_reg_clf, bag_clf, ada_clf, grad_clf, xgb_clf]\n",
    "\n",
    "# STORING CROSS VAL-SCORE IN A LIST SCORES\n",
    "scores= []\n",
    "for estimator in estimators:\n",
    "    scores.append(cross_val_score(estimator, X_train, y_train, cv=7))\n"
   ]
  },
  {
   "cell_type": "code",
   "execution_count": 28,
   "metadata": {},
   "outputs": [
    {
     "name": "stdout",
     "output_type": "stream",
     "text": [
      "----------RandomForestClassifier----------\n",
      "\n",
      "Scores: [0.7628866  0.75       0.83157895 0.78947368 0.82105263 0.78947368\n",
      " 0.83157895]\n",
      "Mean: 0.7965777846678552\n",
      "Standard deviation: 0.0303661077202419\n",
      "\n",
      "\n",
      "\n",
      "----------ExtraTreesClassifier----------\n",
      "\n",
      "Scores: [0.7628866  0.76041667 0.75789474 0.74736842 0.77894737 0.8\n",
      " 0.82105263]\n",
      "Mean: 0.7755094889285068\n",
      "Standard deviation: 0.02442221425397277\n",
      "\n",
      "\n",
      "\n",
      "----------LogisticRegression----------\n",
      "\n",
      "Scores: [0.79381443 0.76041667 0.88421053 0.73684211 0.75789474 0.75789474\n",
      " 0.84210526]\n",
      "Mean: 0.7904540668682014\n",
      "Standard deviation: 0.04980837509650419\n",
      "\n",
      "\n",
      "\n",
      "----------BaggingClassifier----------\n",
      "\n",
      "Scores: [0.80412371 0.75       0.81052632 0.77894737 0.82105263 0.84210526\n",
      " 0.88421053]\n",
      "Mean: 0.8129951166576234\n",
      "Standard deviation: 0.03999355205436423\n",
      "\n",
      "\n",
      "\n",
      "----------AdaBoostClassifier----------\n",
      "\n",
      "Scores: [0.83505155 0.78125    0.86315789 0.74736842 0.75789474 0.78947368\n",
      " 0.87368421]\n",
      "Mean: 0.8068400705371678\n",
      "Standard deviation: 0.046789329690866195\n",
      "\n",
      "\n",
      "\n",
      "----------GradientBoostingClassifier----------\n",
      "\n",
      "Scores: [0.79381443 0.80208333 0.86315789 0.81052632 0.83157895 0.78947368\n",
      " 0.88421053]\n",
      "Mean: 0.824977876392011\n",
      "Standard deviation: 0.033752270460569465\n",
      "\n",
      "\n",
      "\n",
      "----------XGBClassifier----------\n",
      "\n",
      "Scores: [0.82474227 0.77083333 0.81052632 0.82105263 0.81052632 0.83157895\n",
      " 0.89473684]\n",
      "Mean: 0.8234280934294499\n",
      "Standard deviation: 0.03434668720492151\n",
      "\n",
      "\n",
      "\n"
     ]
    }
   ],
   "source": [
    "# PRINTING ACCURACY AND MEAN OF EACH ESTIMATORS\n",
    "i = 0\n",
    "for score in scores:\n",
    "    print(\"-\"*10 +estimators[i].__class__.__name__ + \"-\"*10 + \"\\n\")\n",
    "    display_scores(score)\n",
    "    print(\"\\n\\n\")\n",
    "    i = i+1"
   ]
  },
  {
   "cell_type": "markdown",
   "metadata": {},
   "source": [
    "## All estimators:"
   ]
  },
  {
   "cell_type": "code",
   "execution_count": 29,
   "metadata": {},
   "outputs": [],
   "source": [
    "named_estimators = [\n",
    "    (\"random_forest_clf\", random_forest_clf),\n",
    "    (\"extra_trees_clf\", extra_trees_clf),\n",
    "    (\"lg_reg_clf\", lg_reg_clf),\n",
    "    (\"bag_clf\", bag_clf),\n",
    "    (\"ada_clf\", ada_clf),\n",
    "    (\"grad_clf\", grad_clf),\n",
    "    (\"xgb_clf\", xgb_clf),\n",
    "    \n",
    "]"
   ]
  },
  {
   "cell_type": "code",
   "execution_count": 30,
   "metadata": {},
   "outputs": [],
   "source": [
    "# As we have seen above , the accuracy of some models are low as compared to others and they might be reducing the accuracy of your voting model so I have created a new list containing only top 4 classifiers.\n",
    "selected_named_estimators = [\n",
    "    (\"bag_clf\", bag_clf),\n",
    "    (\"ada_clf\", ada_clf),\n",
    "    (\"grad_clf\", grad_clf),\n",
    "    (\"xgb_clf\", xgb_clf),\n",
    "    \n",
    "]"
   ]
  },
  {
   "cell_type": "code",
   "execution_count": 31,
   "metadata": {},
   "outputs": [],
   "source": [
    "#Fitting both voting model , one with all estimators and one with selected estimators\n",
    "\n",
    "all_estimators_voting_clf = VotingClassifier(named_estimators, voting=\"soft\")\n",
    "selected_estimators_voting_clf = VotingClassifier(selected_named_estimators, voting = \"soft\")"
   ]
  },
  {
   "cell_type": "markdown",
   "metadata": {},
   "source": [
    "## CV SCORE:"
   ]
  },
  {
   "cell_type": "code",
   "execution_count": 32,
   "metadata": {},
   "outputs": [
    {
     "name": "stderr",
     "output_type": "stream",
     "text": [
      "/home/aman/myenv/lib/python3.6/site-packages/sklearn/linear_model/logistic.py:432: FutureWarning: Default solver will be changed to 'lbfgs' in 0.22. Specify a solver to silence this warning.\n",
      "  FutureWarning)\n",
      "/home/aman/myenv/lib/python3.6/site-packages/sklearn/linear_model/logistic.py:432: FutureWarning: Default solver will be changed to 'lbfgs' in 0.22. Specify a solver to silence this warning.\n",
      "  FutureWarning)\n",
      "/home/aman/myenv/lib/python3.6/site-packages/sklearn/linear_model/logistic.py:432: FutureWarning: Default solver will be changed to 'lbfgs' in 0.22. Specify a solver to silence this warning.\n",
      "  FutureWarning)\n",
      "/home/aman/myenv/lib/python3.6/site-packages/sklearn/linear_model/logistic.py:432: FutureWarning: Default solver will be changed to 'lbfgs' in 0.22. Specify a solver to silence this warning.\n",
      "  FutureWarning)\n",
      "/home/aman/myenv/lib/python3.6/site-packages/sklearn/linear_model/logistic.py:432: FutureWarning: Default solver will be changed to 'lbfgs' in 0.22. Specify a solver to silence this warning.\n",
      "  FutureWarning)\n",
      "/home/aman/myenv/lib/python3.6/site-packages/sklearn/linear_model/logistic.py:432: FutureWarning: Default solver will be changed to 'lbfgs' in 0.22. Specify a solver to silence this warning.\n",
      "  FutureWarning)\n",
      "/home/aman/myenv/lib/python3.6/site-packages/sklearn/linear_model/logistic.py:432: FutureWarning: Default solver will be changed to 'lbfgs' in 0.22. Specify a solver to silence this warning.\n",
      "  FutureWarning)\n"
     ]
    }
   ],
   "source": [
    "all_estimators_voting_scores = cross_val_score(all_estimators_voting_clf, X_train ,y_train, cv=7)\n",
    "selected_estimators_voting_scores = cross_val_score(selected_estimators_voting_clf, X_train ,y_train, cv=7)"
   ]
  },
  {
   "cell_type": "markdown",
   "metadata": {},
   "source": [
    "## Accuracy with all estimators and selected estimators respectively."
   ]
  },
  {
   "cell_type": "code",
   "execution_count": 33,
   "metadata": {},
   "outputs": [
    {
     "name": "stdout",
     "output_type": "stream",
     "text": [
      "VOTING WITH ALL ESTIMATORS & WITHOUT TUNING :\n",
      "\n",
      "Scores: [0.84536082 0.80208333 0.85263158 0.78947368 0.82105263 0.82105263\n",
      " 0.90526316]\n",
      "Mean: 0.8338454060408754\n",
      "Standard deviation: 0.03563908279631335\n",
      "\n",
      "\n",
      "%%%%%%%%%%%%%%%%%%%%%%%%%%%%%%%%%%%%%%%%%%%%%%%%%%%%%%%%%%%%%%%%%%%%%%%%%%%%%%%%%%%%%%%%%%%%%%%%%%%%\n",
      "\n",
      "\n",
      "VOTING WITH SELECTED ESTIMATORS & WITHOUT TUNING :\n",
      "\n",
      "Scores: [0.83505155 0.78125    0.83157895 0.81052632 0.84210526 0.84210526\n",
      " 0.91578947]\n",
      "Mean: 0.8369152585070924\n",
      "Standard deviation: 0.03798864690966384\n"
     ]
    }
   ],
   "source": [
    "print(\"VOTING WITH ALL ESTIMATORS & WITHOUT TUNING :\\n\")\n",
    "display_scores(all_estimators_voting_scores)\n",
    "\n",
    "print(\"\\n\\n\"+\"%\"*100+\"\\n\\n\\nVOTING WITH SELECTED ESTIMATORS & WITHOUT TUNING :\\n\")\n",
    "display_scores(selected_estimators_voting_scores)\n"
   ]
  },
  {
   "cell_type": "markdown",
   "metadata": {},
   "source": [
    "# Tuning hyperparams\n"
   ]
  },
  {
   "cell_type": "code",
   "execution_count": 34,
   "metadata": {},
   "outputs": [],
   "source": [
    "# Setting values for all the parameters\n",
    "\n",
    "grid_n_estimator = [10, 50, 100, 300]\n",
    "grid_ratio = [.1, .25, .5, .75, 1.0]\n",
    "grid_learn = [.01, .03, .05, .1, .25]\n",
    "grid_max_depth = [2, 4, 6, 8, 10, None]\n",
    "grid_min_samples = [5, 10, .03, .05, .10]\n",
    "grid_criterion = ['gini', 'entropy']\n",
    "grid_bool = [True, False]\n",
    "grid_seed = [0]\n",
    "\n",
    "# You can use google and  references for getting all parameters \n",
    "grid_param = [\n",
    "             [{\n",
    "            #RandomForestClassifier - http://scikit-learn.org/stable/modules/generated/sklearn.ensemble.RandomForestClassifier.html#sklearn.ensemble.RandomForestClassifier\n",
    "            'n_estimators': grid_n_estimator, #default=10\n",
    "            'criterion': grid_criterion, #default=”gini”\n",
    "            'max_depth': grid_max_depth, #default=None\n",
    "            'oob_score': [True], #default=False -- 12/31/17 set to reduce runtime -- The best parameter for RandomForestClassifier is {'criterion': 'entropy', 'max_depth': 6, 'n_estimators': 100, 'oob_score': True, 'random_state': 0} with a runtime of 146.35 seconds.\n",
    "            'random_state': grid_seed\n",
    "             }],\n",
    "            \n",
    "            \n",
    "            [{\n",
    "            #ExtraTreesClassifier - http://scikit-learn.org/stable/modules/generated/sklearn.ensemble.ExtraTreesClassifier.html#sklearn.ensemble.ExtraTreesClassifier\n",
    "            'n_estimators': grid_n_estimator, #default=10\n",
    "            'criterion': grid_criterion, #default=”gini”\n",
    "            'max_depth': grid_max_depth, #default=None\n",
    "            'random_state': grid_seed\n",
    "             }],\n",
    "            \n",
    "            [{\n",
    "            #LogisticRegressionCV - http://scikit-learn.org/stable/modules/generated/sklearn.linear_model.LogisticRegressionCV.html#sklearn.linear_model.LogisticRegressionCV\n",
    "            'fit_intercept': grid_bool, #default: True\n",
    "            #'penalty': ['l1','l2'],\n",
    "            'solver': ['newton-cg', 'lbfgs', 'liblinear', 'sag', 'saga'], #default: lbfgs\n",
    "            'random_state': grid_seed\n",
    "             }],\n",
    "            \n",
    "      \n",
    "            [{\n",
    "            #BaggingClassifier - http://scikit-learn.org/stable/modules/generated/sklearn.ensemble.BaggingClassifier.html#sklearn.ensemble.BaggingClassifier\n",
    "            'n_estimators': grid_n_estimator, #default=10\n",
    "            'max_samples': grid_ratio, #default=1.0\n",
    "            'random_state': grid_seed\n",
    "             }],\n",
    "\n",
    "    \n",
    "            [{\n",
    "            #AdaBoostClassifier - http://scikit-learn.org/stable/modules/generated/sklearn.ensemble.AdaBoostClassifier.html\n",
    "            'n_estimators': grid_n_estimator, #default=50\n",
    "            'learning_rate': grid_learn, #default=1\n",
    "            #'algorithm': ['SAMME', 'SAMME.R'], #default=’SAMME.R\n",
    "            'random_state': grid_seed\n",
    "            }],\n",
    "    \n",
    "            [{\n",
    "            #GradientBoostingClassifier - http://scikit-learn.org/stable/modules/generated/sklearn.ensemble.GradientBoostingClassifier.html#sklearn.ensemble.GradientBoostingClassifier\n",
    "            #'loss': ['deviance', 'exponential'], #default=’deviance’\n",
    "            'learning_rate': [.05], #default=0.1 -- 12/31/17 set to reduce runtime -- The best parameter for GradientBoostingClassifier is {'learning_rate': 0.05, 'max_depth': 2, 'n_estimators': 300, 'random_state': 0} with a runtime of 264.45 seconds.\n",
    "            'n_estimators': [300], #default=100 -- 12/31/17 set to reduce runtime -- The best parameter for GradientBoostingClassifier is {'learning_rate': 0.05, 'max_depth': 2, 'n_estimators': 300, 'random_state': 0} with a runtime of 264.45 seconds.\n",
    "            #'criterion': ['friedman_mse', 'mse', 'mae'], #default=”friedman_mse”\n",
    "            'max_depth': grid_max_depth, #default=3   \n",
    "            'random_state': grid_seed\n",
    "             }],\n",
    "\n",
    "            [{\n",
    "            #XGBClassifier - http://xgboost.readthedocs.io/en/latest/parameter.html\n",
    "            'learning_rate': grid_learn, #default: .3\n",
    "            'max_depth': [1,2,4,6,8,10], #default 2\n",
    "            'n_estimators': grid_n_estimator, \n",
    "            'seed': grid_seed  \n",
    "             }]   \n",
    "    \n",
    "            \n",
    "        ]\n"
   ]
  },
  {
   "cell_type": "markdown",
   "metadata": {},
   "source": [
    "## **This is for finding best params using gridsearchCV and its a bit time consuming so i have commented it**"
   ]
  },
  {
   "cell_type": "code",
   "execution_count": 35,
   "metadata": {},
   "outputs": [],
   "source": [
    "# for clf, param in zip (named_estimators, grid_param):\n",
    "#     best_search = GridSearchCV(estimator = clf[1], param_grid = param, cv = 10, scoring = 'roc_auc')\n",
    "#     best_search.fit(X_train, y_train)\n",
    "#     best_param = best_search.best_params_\n",
    "#     print('The best parameter for {} is {} '.format(clf[1].__class__.__name__, best_param))\n"
   ]
  },
  {
   "cell_type": "markdown",
   "metadata": {},
   "source": [
    "## Now After we get the best parameters , we build our final voting model:\n",
    "        The best parameter for RandomForestClassifier is {'criterion': 'entropy', 'max_depth': 8, 'n_estimators': 100, 'oob_score': True, 'random_state': 0} \n",
    "        The best parameter for ExtraTreesClassifier is {'criterion': 'entropy', 'max_depth': 6, 'n_estimators': 300, 'random_state': 0}\n",
    "        The best parameter for LogisticRegression is {'fit_intercept': True, 'random_state': 0, 'solver': 'newton-cg'} \n",
    "        The best parameter for BaggingClassifier is {'max_samples': 0.25, 'n_estimators': 300, 'random_state': 0}  \n",
    "        The best parameter for AdaBoostClassifier is {'learning_rate': 0.1, 'n_estimators': 100, 'random_state': 0}  \n",
    "        The best parameter for GradientBoostingClassifier is {'learning_rate': 0.05, 'max_depth': 4, 'n_estimators': 300, 'random_state': 0} \n",
    "        The best parameter for XGBClassifier is {'learning_rate': 0.25, 'max_depth': 6, 'n_estimators': 100, 'seed': 0}\n",
    "        \n",
    "      \n",
    "      \n"
   ]
  },
  {
   "cell_type": "markdown",
   "metadata": {},
   "source": [
    "## Making final estimators which are tuned ie having right parameters and their right values."
   ]
  },
  {
   "cell_type": "code",
   "execution_count": 36,
   "metadata": {},
   "outputs": [],
   "source": [
    "best_random_forest_clf = RandomForestClassifier( criterion=\"entropy\", n_estimators=100, max_depth=8, oob_score=True, random_state=0)\n",
    "best_extra_trees_clf = ExtraTreesClassifier( criterion=\"entropy\", n_estimators=300, max_depth=6, random_state=0)\n",
    "best_lg_reg_clf = LogisticRegression( fit_intercept= True, random_state= 0, solver= 'newton-cg')\n",
    "best_bag_clf = BaggingClassifier( max_samples = 0.25, n_estimators= 300,  random_state=0)\n",
    "best_ada_clf = AdaBoostClassifier( learning_rate=0.1, n_estimators=100, random_state=0)\n",
    "best_grad_clf = GradientBoostingClassifier( learning_rate = 0.05, max_depth= 4, n_estimators=300, random_state=0)\n",
    "best_xgb_clf = XGBClassifier( learning_rate=0.25, max_depth=6, n_estimators=100, seed=0)"
   ]
  },
  {
   "cell_type": "code",
   "execution_count": 37,
   "metadata": {},
   "outputs": [],
   "source": [
    "all_estimators_tuned = [\n",
    "    (\"random_forest_clf\", best_random_forest_clf),\n",
    "    (\"extra_trees_clf\", best_extra_trees_clf),\n",
    "    (\"lg_reg_clf\", best_lg_reg_clf),\n",
    "    (\"bag_clf\", best_bag_clf),\n",
    "    (\"ada_clf\", best_ada_clf),\n",
    "    (\"grad_clf\", best_grad_clf),\n",
    "    (\"xgb_clf\", best_xgb_clf),\n",
    "]"
   ]
  },
  {
   "cell_type": "markdown",
   "metadata": {},
   "source": [
    "## LETS CHECK ONE BY ONE THE ACCURACY OF THE TUNED MODELS"
   ]
  },
  {
   "cell_type": "code",
   "execution_count": 38,
   "metadata": {},
   "outputs": [],
   "source": [
    "estimators = [best_random_forest_clf, best_extra_trees_clf, best_lg_reg_clf, best_bag_clf, best_ada_clf, best_grad_clf, best_xgb_clf]\n",
    "\n",
    "scores= []\n",
    "for estimator in estimators:\n",
    "    scores.append(cross_val_score(estimator, X_train, y_train, cv=7))"
   ]
  },
  {
   "cell_type": "code",
   "execution_count": 39,
   "metadata": {},
   "outputs": [
    {
     "name": "stdout",
     "output_type": "stream",
     "text": [
      "----------RandomForestClassifier----------\n",
      "\n",
      "Scores: [0.83505155 0.80208333 0.86315789 0.75789474 0.83157895 0.8\n",
      " 0.89473684]\n",
      "Mean: 0.8263576143968168\n",
      "Standard deviation: 0.0415828885610289\n",
      "\n",
      "\n",
      "\n",
      "----------ExtraTreesClassifier----------\n",
      "\n",
      "Scores: [0.80412371 0.80208333 0.90526316 0.78947368 0.8        0.77894737\n",
      " 0.90526316]\n",
      "Mean: 0.8264506304420846\n",
      "Standard deviation: 0.050481362555122714\n",
      "\n",
      "\n",
      "\n",
      "----------LogisticRegression----------\n",
      "\n",
      "Scores: [0.82474227 0.76041667 0.89473684 0.75789474 0.74736842 0.74736842\n",
      " 0.87368421]\n",
      "Mean: 0.8008873666124074\n",
      "Standard deviation: 0.058420837393878815\n",
      "\n",
      "\n",
      "\n",
      "----------BaggingClassifier----------\n",
      "\n",
      "Scores: [0.82474227 0.80208333 0.87368421 0.82105263 0.83157895 0.81052632\n",
      " 0.89473684]\n",
      "Mean: 0.8369149355347131\n",
      "Standard deviation: 0.03169770500308492\n",
      "\n",
      "\n",
      "\n",
      "----------AdaBoostClassifier----------\n",
      "\n",
      "Scores: [0.79381443 0.78125    0.88421053 0.76842105 0.77894737 0.74736842\n",
      " 0.89473684]\n",
      "Mean: 0.806964091930858\n",
      "Standard deviation: 0.05388790218664011\n",
      "\n",
      "\n",
      "\n",
      "----------GradientBoostingClassifier----------\n",
      "\n",
      "Scores: [0.84536082 0.75       0.86315789 0.78947368 0.82105263 0.81052632\n",
      " 0.89473684]\n",
      "Mean: 0.8249011704519029\n",
      "Standard deviation: 0.04447460793441838\n",
      "\n",
      "\n",
      "\n",
      "----------XGBClassifier----------\n",
      "\n",
      "Scores: [0.82474227 0.75       0.85263158 0.8        0.8        0.81052632\n",
      " 0.86315789]\n",
      "Mean: 0.8144368653592745\n",
      "Standard deviation: 0.034893766025700906\n",
      "\n",
      "\n",
      "\n"
     ]
    }
   ],
   "source": [
    "i = 0\n",
    "for score in scores:\n",
    "    print(\"-\"*10 +estimators[i].__class__.__name__ + \"-\"*10 + \"\\n\")\n",
    "    display_scores(score)\n",
    "    print(\"\\n\\n\")\n",
    "    i = i+1"
   ]
  },
  {
   "cell_type": "code",
   "execution_count": null,
   "metadata": {},
   "outputs": [],
   "source": []
  },
  {
   "cell_type": "markdown",
   "metadata": {},
   "source": [
    "## ----------RandomForestClassifier----------\n",
    "\n",
    "Scores: [0.82291667 0.80208333 0.89583333 0.75789474 0.83157895 0.8\n",
    " 0.89473684]\n",
    "### Mean: 0.8292919799498747\n",
    "Standard deviation: 0.046984121019082115\n",
    "\n",
    "\n",
    "\n",
    "## ----------ExtraTreesClassifier----------\n",
    "\n",
    "Scores: [0.80208333 0.80208333 0.90625    0.78947368 0.8        0.77894737\n",
    " 0.90526316]\n",
    "### Mean: 0.8263001253132832\n",
    "Standard deviation: 0.050836173770773097\n",
    "\n",
    "\n",
    "\n",
    "## ----------LogisticRegression----------\n",
    "\n",
    "Scores: [0.82291667 0.76041667 0.89583333 0.75789474 0.74736842 0.74736842\n",
    " 0.87368421]\n",
    "### Mean: 0.8007832080200501\n",
    "Standard deviation: 0.058571238717743335\n",
    "\n",
    "\n",
    "\n",
    "## ----------BaggingClassifier----------\n",
    "\n",
    "Scores: [0.80208333 0.80208333 0.85416667 0.82105263 0.83157895 0.81052632\n",
    " 0.89473684]\n",
    "### Mean: 0.8308897243107769\n",
    "Standard deviation: 0.031144361211338737\n",
    "\n",
    "\n",
    "\n",
    "## ----------AdaBoostClassifier----------\n",
    "\n",
    "Scores: [0.79166667 0.78125    0.88541667 0.76842105 0.77894737 0.74736842\n",
    " 0.89473684]\n",
    "### Mean: 0.806829573934837\n",
    "Standard deviation: 0.054216639375005905\n",
    "\n",
    "\n",
    "\n",
    "## ----------GradientBoostingClassifier----------\n",
    "\n",
    "Scores: [0.82291667 0.73958333 0.88541667 0.78947368 0.82105263 0.82105263\n",
    " 0.89473684]\n",
    "### Mean: 0.8248903508771929\n",
    "Standard deviation: 0.049435306018664804\n",
    "\n",
    "\n",
    "\n",
    "## ----------XGBClassifier----------\n",
    "\n",
    "Scores: [0.83333333 0.75       0.83333333 0.8        0.8        0.81052632\n",
    " 0.86315789]\n",
    "### Mean: 0.8129072681704261\n",
    "Standard deviation: 0.033070837849658676\n",
    "\n",
    "\n"
   ]
  },
  {
   "cell_type": "markdown",
   "metadata": {},
   "source": [
    "## As we can see GradientBoosting_CLF, Bagging_CLF, ExtraTrees_CLF, RandomForest_CLF performed better than others, so we should remove other classifiers as they can have negative effect on our final voting model"
   ]
  },
  {
   "cell_type": "code",
   "execution_count": 40,
   "metadata": {},
   "outputs": [],
   "source": [
    "selected_estimators_tuned = [\n",
    "    (\"random_forest_clf\", best_random_forest_clf),\n",
    "    (\"extra_trees_clf\", best_extra_trees_clf),\n",
    "    (\"bag_clf\", best_bag_clf),\n",
    "    (\"grad_clf\", best_grad_clf),\n",
    "\n",
    "]"
   ]
  },
  {
   "cell_type": "markdown",
   "metadata": {},
   "source": [
    "## NOW fitting all models of all and selected estimators and with and without tuned parameters."
   ]
  },
  {
   "cell_type": "code",
   "execution_count": 41,
   "metadata": {},
   "outputs": [],
   "source": [
    "all_estimators_tuned_voting_clf = VotingClassifier(all_estimators_tuned, voting=\"soft\")\n",
    "selected_estimators_tuned_voting_clf = VotingClassifier(selected_estimators_tuned, voting=\"soft\")"
   ]
  },
  {
   "cell_type": "code",
   "execution_count": 42,
   "metadata": {},
   "outputs": [],
   "source": [
    "all_tuned_voting_clf_scores = cross_val_score(all_estimators_tuned_voting_clf,X_train, y_train,cv=7)\n",
    "selected_tuned_voting_clf_scores = cross_val_score(selected_estimators_tuned_voting_clf,X_train, y_train,cv=7)"
   ]
  },
  {
   "cell_type": "markdown",
   "metadata": {},
   "source": [
    "# Final Cross-Validation Scores of all models"
   ]
  },
  {
   "cell_type": "code",
   "execution_count": 43,
   "metadata": {},
   "outputs": [
    {
     "name": "stdout",
     "output_type": "stream",
     "text": [
      "VOTING WITH ALL ESTIMATORS & WITHOUT TUNING :\n",
      "\n",
      "Scores: [0.84536082 0.80208333 0.85263158 0.78947368 0.82105263 0.82105263\n",
      " 0.90526316]\n",
      "Mean: 0.8338454060408754\n",
      "Standard deviation: 0.03563908279631335\n",
      "\n",
      "\n",
      "%%%%%%%%%%%%%%%%%%%%%%%%%%%%%%%%%%%%%%%%%%%%%%%%%%%%%%%%%%%%%%%%%%%%%%%%%%%%%%%%%%%%%%%%%%%%%%%%%%%%\n",
      "\n",
      "\n",
      "VOTING WITH SELECTED ESTIMATORS & WITHOUT TUNING :\n",
      "\n",
      "Scores: [0.83505155 0.78125    0.83157895 0.81052632 0.84210526 0.84210526\n",
      " 0.91578947]\n",
      "Mean: 0.8369152585070924\n",
      "Standard deviation: 0.03798864690966384\n",
      "\n",
      "\n",
      "%%%%%%%%%%%%%%%%%%%%%%%%%%%%%%%%%%%%%%%%%%%%%%%%%%%%%%%%%%%%%%%%%%%%%%%%%%%%%%%%%%%%%%%%%%%%%%%%%%%%\n",
      "\n",
      "\n",
      "VOTING WITH ALL ESTIMATORS & WITH TUNING :\n",
      "\n",
      "Scores: [0.83505155 0.79166667 0.86315789 0.81052632 0.83157895 0.81052632\n",
      " 0.90526316]\n",
      "Mean: 0.8353958349481952\n",
      "Standard deviation: 0.03548860595780359\n",
      "\n",
      "\n",
      "%%%%%%%%%%%%%%%%%%%%%%%%%%%%%%%%%%%%%%%%%%%%%%%%%%%%%%%%%%%%%%%%%%%%%%%%%%%%%%%%%%%%%%%%%%%%%%%%%%%%\n",
      "\n",
      "\n",
      "VOTING WITH SELECTED ESTIMATORS & WITH TUNING :\n",
      "\n",
      "Scores: [0.84536082 0.79166667 0.90526316 0.8        0.84210526 0.81052632\n",
      " 0.89473684]\n",
      "Mean: 0.8413798671937576\n",
      "Standard deviation: 0.04154180884478612\n"
     ]
    }
   ],
   "source": [
    "print(\"VOTING WITH ALL ESTIMATORS & WITHOUT TUNING :\\n\")\n",
    "display_scores(all_estimators_voting_scores)\n",
    "\n",
    "print(\"\\n\\n\"+\"%\"*100+\"\\n\\n\\nVOTING WITH SELECTED ESTIMATORS & WITHOUT TUNING :\\n\")\n",
    "display_scores(selected_estimators_voting_scores)\n",
    "\n",
    "print(\"\\n\\n\"+\"%\"*100+\"\\n\\n\\nVOTING WITH ALL ESTIMATORS & WITH TUNING :\\n\")\n",
    "display_scores(all_tuned_voting_clf_scores)\n",
    "\n",
    "print(\"\\n\\n\"+\"%\"*100+\"\\n\\n\\nVOTING WITH SELECTED ESTIMATORS & WITH TUNING :\\n\")\n",
    "display_scores(selected_tuned_voting_clf_scores)\n",
    "\n"
   ]
  },
  {
   "cell_type": "markdown",
   "metadata": {},
   "source": [
    "# Now fitting all models to get our submission files"
   ]
  },
  {
   "cell_type": "code",
   "execution_count": 44,
   "metadata": {},
   "outputs": [
    {
     "name": "stderr",
     "output_type": "stream",
     "text": [
      "/home/aman/myenv/lib/python3.6/site-packages/sklearn/linear_model/logistic.py:432: FutureWarning: Default solver will be changed to 'lbfgs' in 0.22. Specify a solver to silence this warning.\n",
      "  FutureWarning)\n"
     ]
    },
    {
     "data": {
      "text/plain": [
       "VotingClassifier(estimators=[('random_forest_clf',\n",
       "                              RandomForestClassifier(bootstrap=True,\n",
       "                                                     class_weight=None,\n",
       "                                                     criterion='entropy',\n",
       "                                                     max_depth=8,\n",
       "                                                     max_features='auto',\n",
       "                                                     max_leaf_nodes=None,\n",
       "                                                     min_impurity_decrease=0.0,\n",
       "                                                     min_impurity_split=None,\n",
       "                                                     min_samples_leaf=1,\n",
       "                                                     min_samples_split=2,\n",
       "                                                     min_weight_fraction_leaf=0.0,\n",
       "                                                     n_estimators=100,\n",
       "                                                     n_jobs=None,\n",
       "                                                     oob_score=True,\n",
       "                                                     random_sta...\n",
       "                                                         max_features=None,\n",
       "                                                         max_leaf_nodes=None,\n",
       "                                                         min_impurity_decrease=0.0,\n",
       "                                                         min_impurity_split=None,\n",
       "                                                         min_samples_leaf=1,\n",
       "                                                         min_samples_split=2,\n",
       "                                                         min_weight_fraction_leaf=0.0,\n",
       "                                                         n_estimators=300,\n",
       "                                                         n_iter_no_change=None,\n",
       "                                                         presort='auto',\n",
       "                                                         random_state=0,\n",
       "                                                         subsample=1.0,\n",
       "                                                         tol=0.0001,\n",
       "                                                         validation_fraction=0.1,\n",
       "                                                         verbose=0,\n",
       "                                                         warm_start=False))],\n",
       "                 flatten_transform=True, n_jobs=None, voting='soft',\n",
       "                 weights=None)"
      ]
     },
     "execution_count": 44,
     "metadata": {},
     "output_type": "execute_result"
    }
   ],
   "source": [
    "all_estimators_voting_clf.fit(X_train, y_train)\n",
    "selected_estimators_voting_clf.fit(X_train, y_train)\n",
    "all_estimators_tuned_voting_clf.fit(X_train, y_train)\n",
    "selected_estimators_tuned_voting_clf.fit(X_train, y_train)"
   ]
  },
  {
   "cell_type": "code",
   "execution_count": 45,
   "metadata": {},
   "outputs": [],
   "source": [
    "pred_allestimators_without_tuning = all_estimators_voting_clf.predict(clean_test_data)\n",
    "pred_selectedestimators_without_tuning = selected_estimators_voting_clf.predict(clean_test_data)\n",
    "pred_allestimators_with_tuning = all_estimators_tuned_voting_clf.predict(clean_test_data)\n",
    "pred_selectedestimators_with_tuning = selected_estimators_tuned_voting_clf.predict(clean_test_data)\n"
   ]
  },
  {
   "cell_type": "markdown",
   "metadata": {},
   "source": [
    "# Submissions with their scores:"
   ]
  },
  {
   "cell_type": "code",
   "execution_count": 46,
   "metadata": {},
   "outputs": [],
   "source": [
    "submission = pd.DataFrame({'PassengerId':Id, 'Survived':pred_allestimators_without_tuning})\n",
    "submission.to_csv('submission_pred_allestimators_without_tuning.csv', index = False) "
   ]
  },
  {
   "cell_type": "markdown",
   "metadata": {},
   "source": [
    "## Submission Score :0.77511"
   ]
  },
  {
   "cell_type": "code",
   "execution_count": 47,
   "metadata": {},
   "outputs": [],
   "source": [
    "submission = pd.DataFrame({'PassengerId':Id, 'Survived':pred_selectedestimators_without_tuning})\n",
    "submission.to_csv('submission_pred_selectedestimators_without_tuning.csv', index = False)"
   ]
  },
  {
   "cell_type": "markdown",
   "metadata": {},
   "source": [
    "## Submission Score :0.78468"
   ]
  },
  {
   "cell_type": "code",
   "execution_count": 48,
   "metadata": {},
   "outputs": [],
   "source": [
    "\n",
    "submission = pd.DataFrame({'PassengerId':Id, 'Survived':pred_allestimators_with_tuning})\n",
    "submission.to_csv('submission_pred_allestimators_with_tuning.csv', index = False)"
   ]
  },
  {
   "cell_type": "markdown",
   "metadata": {},
   "source": [
    "## Submission Score :0.78468\n"
   ]
  },
  {
   "cell_type": "code",
   "execution_count": 49,
   "metadata": {},
   "outputs": [],
   "source": [
    "\n",
    "submission = pd.DataFrame({'PassengerId':Id, 'Survived':pred_selectedestimators_with_tuning})\n",
    "submission.to_csv('submission_pred_selectedestimators_with_tuning.csv', index = False)"
   ]
  },
  {
   "cell_type": "markdown",
   "metadata": {},
   "source": [
    "## Submission Score :0.77033"
   ]
  },
  {
   "cell_type": "code",
   "execution_count": null,
   "metadata": {},
   "outputs": [],
   "source": []
  },
  {
   "cell_type": "code",
   "execution_count": null,
   "metadata": {},
   "outputs": [],
   "source": []
  },
  {
   "cell_type": "code",
   "execution_count": null,
   "metadata": {},
   "outputs": [],
   "source": []
  }
 ],
 "metadata": {
  "kernelspec": {
   "display_name": "Python 3",
   "language": "python",
   "name": "python3"
  },
  "language_info": {
   "codemirror_mode": {
    "name": "ipython",
    "version": 3
   },
   "file_extension": ".py",
   "mimetype": "text/x-python",
   "name": "python",
   "nbconvert_exporter": "python",
   "pygments_lexer": "ipython3",
   "version": "3.6.8"
  }
 },
 "nbformat": 4,
 "nbformat_minor": 4
}
